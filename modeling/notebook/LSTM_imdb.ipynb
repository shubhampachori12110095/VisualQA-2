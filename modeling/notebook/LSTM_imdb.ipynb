{
 "cells": [
  {
   "cell_type": "code",
   "execution_count": 4,
   "metadata": {
    "collapsed": false
   },
   "outputs": [
    {
     "name": "stdout",
     "output_type": "stream",
     "text": [
      "Downloading data from https://s3.amazonaws.com/text-datasets/imdb_full.pkl\n",
      "65544192/65552540 [============================>.] - ETA: 0s"
     ]
    }
   ],
   "source": [
    "# LSTM for sequence classification in the IMDB dataset\n",
    "# http://machinelearningmastery.com/sequence-classification-lstm-recurrent-neural-networks-python-keras/\n",
    "import numpy\n",
    "from keras.datasets import imdb\n",
    "from keras.models import Sequential\n",
    "from keras.layers import Dense\n",
    "from keras.layers import LSTM\n",
    "from keras.layers.embeddings import Embedding\n",
    "from keras.preprocessing import sequence\n",
    "from theano.tensor.shared_randomstreams import RandomStreams\n",
    "# fix random seed for reproducibility\n",
    "numpy.random.seed(7)\n",
    "srng = RandomStreams(7)\n",
    "# load the dataset but only keep the top n words, zero the rest\n",
    "top_words = 5000\n",
    "test_split = 0.33\n",
    "(X_train, y_train), (X_test, y_test) = imdb.load_data(nb_words=top_words)"
   ]
  },
  {
   "cell_type": "code",
   "execution_count": 15,
   "metadata": {
    "collapsed": false
   },
   "outputs": [
    {
     "name": "stdout",
     "output_type": "stream",
     "text": [
      "25000\n",
      "25000\n",
      "500\n",
      "[   0    0    0    0    0    0    0    0    0    0    0    0    0    0    0\n",
      "    0    0    0    0    0    0    0    0    0    0    0    0    0    0    0\n",
      "    0    0    0    0    0    0    0    0    0    0    0    0    0    0    0\n",
      "    0    0    0    0    0    0    0    0    0    0    0    0    0    0    0\n",
      "    0    0    0    0    0    0    0    0    0    0    0    0    0    0    0\n",
      "    0    0    0    0    0    0    0    0    0    0    0    0    0    0    0\n",
      "    0    0    0    0    0    0    0    0    0    0    0    0    0    0    0\n",
      "    0    0    0    0    0    0    0    0    0    0    0    0    0    0    0\n",
      "    0    0    0    0    0    0    0    0    0    0    0    0    0    0    0\n",
      "    0    0    0    0    0    0    0    0    0    0    0    0    0    0    0\n",
      "    0    0    0    0    0    0    0    0    0    0    0    0    0    0    0\n",
      "    0    0    0    0    0    0    0    0    0    0    0    0    0    1   24\n",
      "   15   13    2  546   19    2   33    4 1682    7  821  541    2   21   54\n",
      "   13  276    6  288   11 1017    6    2    5   51   13   79    9   31 1775\n",
      "  136    4    2   33    4    2  130    7    2 1214    2    5    2   11    6\n",
      "    2 3039   13  130   56  536   73  198    2  234    7   61  113  825 1437\n",
      "   13  586    2   14   42    2    7 2120    5  541  102   38   76   17   35\n",
      " 3435    7   80    8   67   48   25   70  870  143   98    2    7 2120    5\n",
      "  541   69    6  171 1211 3230    8  106    4    2 2846  122   24   12   16\n",
      "   33  118  379    5   33  249   73   66  379  382   61    2   71   99  312\n",
      "   13  276    4  288  536  449  132   14    9 2146   30 1195  103  149   98\n",
      " 1214 3688    4  250   44    6 3207  211   13   16  149   12   11  702  930\n",
      "   10   10  107 2572    7   84   62   30  928   11   14   22  300   84   37\n",
      " 2736   46    2   56  108   43    8   67   89    2   56   12   66    9   42\n",
      "  241  189    2   13    2   14    5    4   85    2 4272  108   18    4 1569\n",
      "  282   21   60   48   13 1583   83    4 2385    7    4 1138   14   22  586\n",
      "    2   61 2074   17    6  551    7  192   13  100  838   14   22    2 2066\n",
      "  541 4021   17   11   62   25   43  516    4  503    2  460   38   11 1174\n",
      "    4   64  282    8  205   14   22    9   18 1594 4935   48   25  181    2\n",
      "   15 2040  189  152 1754   79    2    7  341  252   15 1870   99   21   33\n",
      "  222  490   79    4  541    5 3291   25  535   10   10    4   64  282   13\n",
      "   70   67   18  259    2   14  595    9   88   36  235  507  424    8   57\n",
      " 1614 3940   15   13   70    2   57  282   18   45    2   57  164   43    6\n",
      "  835  589    8   30 1621]\n",
      "0\n",
      "[   0    0    0    0    0    0    0    0    0    0    0    0    0    0    0\n",
      "    0    0    0    0    0    0    0    0    0    0    0    0    0    0    0\n",
      "    0    0    0    0    0    0    0    0    0    0    0    0    0    0    0\n",
      "    0    0    0    0    0    0    0    0    0    0    0    0    0    0    0\n",
      "    0    0    0    0    0    0    0    0    0    0    0    0    0    0    0\n",
      "    0    0    0    0    0    0    0    0    0    0    0    0    0    0    0\n",
      "    0    0    0    0    0    0    0    0    0    0    0    0    0    0    0\n",
      "    0    0    0    0    0    0    0    0    0    0    0    0    0    0    0\n",
      "    0    0    0    0    0    0    0    0    0    0    0    0    0    0    0\n",
      "    0    0    0    0    0    0    0    0    0    0    0    0    0    0    0\n",
      "    0    0    0    0    0    0    0    0    0    0    0    0    0    0    0\n",
      "    0    0    0    0    0    0    0    0    0    0    0    0    0    0    0\n",
      "    0    0    0    0    0    0    0    0    0    0    0    0    0    0    0\n",
      "    0    0    0    0    0    0    0    0    0    0    0    0    0    0    0\n",
      "    0    0    0    0    0    0    0    0    0    0    0    0    0    0    0\n",
      "    0    0    0    0    0    0    0    0    0    0    0    0    0    0    0\n",
      "    0    0    0    0    0    0    0    0    0    0    0    0    0    0    0\n",
      "    0    0    0    0    0    0    0    0    0    0    0    0    0    0    0\n",
      "    0    0    0    0    0    0    0    0    0    0    0    0    0    1   14\n",
      "   20    9    4  118   20   13   28  110   11    6  196   58   12    9   82\n",
      "    4  118   20  110   15 1077    6  453    8  376  479  209  170    8    2\n",
      "  141   17   19    2    2   42    2   12    2 4661    4    2   15    2   69\n",
      "   23    4    2   12   82    2   46  714   18  178    4 1874    5  298 1929\n",
      "   15   71  496    4  671    4    2    4    2  639    4   22   16  252    8\n",
      " 4282    2    4 1206  590    2   38   11    4  588    7   14   22  100  115\n",
      "   30   93   11    4 1206  590   18 1206  590   22 1713    2  410   11 1421\n",
      "    7    2    5  588  607    2    2   12   82 1625  178   11   23    4  712\n",
      "   15   71  984   19    4 2419 1944    7    4    2  200    5   75   70   67\n",
      "   89    2 3125  870   11    2  162    2   54   68  479    9   31    7    2\n",
      "    5  148   37   71    4 1743    8 1598    4    2    7  671    5 1147    4\n",
      "   22    9    2  324   19   35  321    4  177    9   87    5   36   66 2514\n",
      "   25   83    4  547    7    4    2   11    4    2  315   15   58   10   10\n",
      "  174   14    9    6  215   67   18  148   37  119  453   19    6 2296 1379\n",
      "  978   67   61 3628   23]\n"
     ]
    }
   ],
   "source": [
    "print len(X_train)\n",
    "print len(X_test)\n",
    "idx = 259\n",
    "print len(X_train[idx])\n",
    "print X_train[idx]\n",
    "print y_train[idx]\n",
    "print X_test[idx]"
   ]
  },
  {
   "cell_type": "code",
   "execution_count": 11,
   "metadata": {
    "collapsed": false,
    "scrolled": false
   },
   "outputs": [],
   "source": [
    "# truncate and pad input sequences\n",
    "max_review_length = 500\n",
    "X_train = sequence.pad_sequences(X_train, maxlen=max_review_length)\n",
    "X_test = sequence.pad_sequences(X_test, maxlen=max_review_length)"
   ]
  },
  {
   "cell_type": "code",
   "execution_count": 12,
   "metadata": {
    "collapsed": false
   },
   "outputs": [
    {
     "name": "stdout",
     "output_type": "stream",
     "text": [
      "____________________________________________________________________________________________________\n",
      "Layer (type)                     Output Shape          Param #     Connected to                     \n",
      "====================================================================================================\n",
      "embedding_1 (Embedding)          (None, 500, 32)       160000      embedding_input_1[0][0]          \n",
      "____________________________________________________________________________________________________\n",
      "lstm_1 (LSTM)                    (None, 100)           53200       embedding_1[0][0]                \n",
      "____________________________________________________________________________________________________\n",
      "dense_1 (Dense)                  (None, 1)             101         lstm_1[0][0]                     \n",
      "====================================================================================================\n",
      "Total params: 213301\n",
      "____________________________________________________________________________________________________\n",
      "None\n"
     ]
    }
   ],
   "source": [
    "# create the model\n",
    "embedding_vecor_length = 32\n",
    "model = Sequential()\n",
    "model.add(Embedding(top_words, embedding_vecor_length, input_length=max_review_length))\n",
    "model.add(LSTM(100))\n",
    "model.add(Dense(1, activation='sigmoid'))\n",
    "model.compile(loss='binary_crossentropy', optimizer='adam', metrics=['accuracy'])\n",
    "print(model.summary())"
   ]
  },
  {
   "cell_type": "code",
   "execution_count": 16,
   "metadata": {
    "collapsed": false
   },
   "outputs": [
    {
     "name": "stdout",
     "output_type": "stream",
     "text": [
      "Epoch 1/3\n",
      "25000/25000 [==============================] - 487s - loss: 0.4815 - acc: 0.7772   \n",
      "Epoch 2/3\n",
      "25000/25000 [==============================] - 505s - loss: 0.3229 - acc: 0.8618   \n",
      "Epoch 3/3\n",
      "25000/25000 [==============================] - 497s - loss: 0.4016 - acc: 0.8246   \n",
      "Accuracy: 81.68%\n"
     ]
    }
   ],
   "source": [
    "model.fit(X_train, y_train, nb_epoch=3, batch_size=64)\n",
    "# Final evaluation of the model\n",
    "scores = model.evaluate(X_test, y_test, verbose=0)\n",
    "print(\"Accuracy: %.2f%%\" % (scores[1]*100))"
   ]
  }
 ],
 "metadata": {
  "anaconda-cloud": {},
  "kernelspec": {
   "display_name": "Python [Root]",
   "language": "python",
   "name": "Python [Root]"
  },
  "language_info": {
   "codemirror_mode": {
    "name": "ipython",
    "version": 2
   },
   "file_extension": ".py",
   "mimetype": "text/x-python",
   "name": "python",
   "nbconvert_exporter": "python",
   "pygments_lexer": "ipython2",
   "version": "2.7.12"
  }
 },
 "nbformat": 4,
 "nbformat_minor": 0
}
